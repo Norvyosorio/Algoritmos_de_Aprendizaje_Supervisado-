{
 "cells": [
  {
   "cell_type": "markdown",
   "metadata": {},
   "source": [
    "# Import Required Libraries\n",
    "Import necessary libraries including pandas, numpy, matplotlib, seaborn, and scikit-learn modules for data manipulation, visualization, and machine learning."
   ]
  },
  {
   "cell_type": "code",
   "execution_count": 1,
   "metadata": {},
   "outputs": [],
   "source": [
    "# Import Required Libraries\n",
    "import pandas as pd\n",
    "import numpy as np\n",
    "import matplotlib.pyplot as plt\n",
    "import seaborn as sns\n",
    "from sklearn.model_selection import train_test_split\n",
    "from sklearn.feature_selection import SelectKBest, f_regression"
   ]
  },
  {
   "cell_type": "markdown",
   "metadata": {},
   "source": [
    "# Load the Cleaned Car Datasets\n",
    "Load the cleaned car datasets from the processed_data folder and select one dataset for further analysis."
   ]
  },
  {
   "cell_type": "code",
   "execution_count": 4,
   "metadata": {},
   "outputs": [
    {
     "name": "stdout",
     "output_type": "stream",
     "text": [
      "car_data_clean:\n",
      "  car_name  year  selling_price  present_price  kms_driven fuel_type  \\\n",
      "0     ritz  2014           3.35           5.59       27000    petrol   \n",
      "1      sx4  2013           4.75           9.54       43000    diesel   \n",
      "2     ciaz  2017           7.25           9.85        6900    petrol   \n",
      "3  wagon r  2011           2.85           4.15        5200    petrol   \n",
      "4    swift  2014           4.60           6.87       42450    diesel   \n",
      "\n",
      "  seller_type transmission  owner  \n",
      "0      dealer       manual      0  \n",
      "1      dealer       manual      0  \n",
      "2      dealer       manual      0  \n",
      "3      dealer       manual      0  \n",
      "4      dealer       manual      0  \n",
      "\n",
      "car_dekho_clean:\n",
      "                       name  year  selling_price  km_driven    fuel  \\\n",
      "0             maruti 800 ac  2007          60000      70000  petrol   \n",
      "1  maruti wagon r lxi minor  2007         135000      50000  petrol   \n",
      "2      hyundai verna 1.6 sx  2012         600000     100000  diesel   \n",
      "3    datsun redigo t option  2017         250000      46000  petrol   \n",
      "4     honda amaze vx i-dtec  2014         450000     141000  diesel   \n",
      "\n",
      "  seller_type transmission         owner  \n",
      "0  individual       manual   first_owner  \n",
      "1  individual       manual   first_owner  \n",
      "2  individual       manual   first_owner  \n",
      "3  individual       manual   first_owner  \n",
      "4  individual       manual  second_owner  \n",
      "\n",
      "car_v3_clean:\n",
      "                           name  year  selling_price  km_driven    fuel  \\\n",
      "0        maruti swift dzire vdi  2014         450000     145500  diesel   \n",
      "1  skoda rapid 1.5 tdi ambition  2014         370000     120000  diesel   \n",
      "2      honda city 2017-2020 exi  2006         158000     140000  petrol   \n",
      "3     hyundai i20 sportz diesel  2010         225000     127000  diesel   \n",
      "4        maruti swift vxi bsiii  2007         130000     120000  petrol   \n",
      "\n",
      "  seller_type transmission         owner     mileage   engine   max_power  \\\n",
      "0  individual       manual   first owner   23.4 kmpl  1248 CC      74 bhp   \n",
      "1  individual       manual  second owner  21.14 kmpl  1498 CC  103.52 bhp   \n",
      "2  individual       manual   third owner   17.7 kmpl  1497 CC      78 bhp   \n",
      "3  individual       manual   first owner   23.0 kmpl  1396 CC      90 bhp   \n",
      "4  individual       manual   first owner   16.1 kmpl  1298 CC    88.2 bhp   \n",
      "\n",
      "                     torque  seats  mileage_value mileage_unit  engine_cc  \\\n",
      "0            190Nm@ 2000rpm    5.0          23.40         kmpl     1248.0   \n",
      "1       250Nm@ 1500-2500rpm    5.0          21.14         kmpl     1498.0   \n",
      "2     12.7@ 2,700(kgm@ rpm)    5.0          17.70         kmpl     1497.0   \n",
      "3  22.4 kgm at 1750-2750rpm    5.0          23.00         kmpl     1396.0   \n",
      "4     11.5@ 4,500(kgm@ rpm)    5.0          16.10         kmpl     1298.0   \n",
      "\n",
      "   power_bhp  \n",
      "0      74.00  \n",
      "1     103.52  \n",
      "2      78.00  \n",
      "3      90.00  \n",
      "4      88.20  \n",
      "\n",
      "car_v4_clean:\n",
      "            make                            model    price  year  kilometer  \\\n",
      "0          honda              amaze 1.2 vx i-vtec   505000  2017      87150   \n",
      "1  maruti suzuki                  swift dzire vdi   450000  2014      75000   \n",
      "2        hyundai             i10 magna 1.2 kappa2   220000  2011      67000   \n",
      "3         toyota                         glanza g   799000  2019      37500   \n",
      "4         toyota  innova 2.4 vx 7 str [2016-2020]  1950000  2018      69000   \n",
      "\n",
      "  fuel_type transmission   location   color   owner  ...           max_power  \\\n",
      "0    petrol       manual       pune    grey   first  ...   87 bhp @ 6000 rpm   \n",
      "1    diesel       manual   ludhiana   white  second  ...   74 bhp @ 4000 rpm   \n",
      "2    petrol       manual    lucknow  maroon   first  ...   79 bhp @ 6000 rpm   \n",
      "3    petrol       manual  mangalore     red   first  ...   82 bhp @ 6000 rpm   \n",
      "4    diesel       manual     mumbai    grey   first  ...  148 bhp @ 3400 rpm   \n",
      "\n",
      "               max_torque drivetrain  length   width  height  \\\n",
      "0       109 nm @ 4500 rpm        fwd  3990.0  1680.0  1505.0   \n",
      "1       190 nm @ 2000 rpm        fwd  3995.0  1695.0  1555.0   \n",
      "2  112.7619 nm @ 4000 rpm        fwd  3585.0  1595.0  1550.0   \n",
      "3       113 nm @ 4200 rpm        fwd  3995.0  1745.0  1510.0   \n",
      "4       343 nm @ 1400 rpm        rwd  4735.0  1830.0  1795.0   \n",
      "\n",
      "   seating_capacity  fuel_tank_capacity  power_bhp  torque_nm  \n",
      "0               5.0                35.0       87.0   109.0000  \n",
      "1               5.0                42.0       74.0   190.0000  \n",
      "2               5.0                35.0       79.0   112.7619  \n",
      "3               5.0                37.0       82.0   113.0000  \n",
      "4               7.0                55.0      148.0   343.0000  \n",
      "\n",
      "[5 rows x 22 columns]\n",
      "\n",
      "Selected Dataset (car_data_clean):\n",
      "  car_name  year  selling_price  present_price  kms_driven fuel_type  \\\n",
      "0     ritz  2014           3.35           5.59       27000    petrol   \n",
      "1      sx4  2013           4.75           9.54       43000    diesel   \n",
      "2     ciaz  2017           7.25           9.85        6900    petrol   \n",
      "3  wagon r  2011           2.85           4.15        5200    petrol   \n",
      "4    swift  2014           4.60           6.87       42450    diesel   \n",
      "\n",
      "  seller_type transmission  owner  \n",
      "0      dealer       manual      0  \n",
      "1      dealer       manual      0  \n",
      "2      dealer       manual      0  \n",
      "3      dealer       manual      0  \n",
      "4      dealer       manual      0  \n"
     ]
    }
   ],
   "source": [
    "# Load the Cleaned Car Datasets\n",
    "\n",
    "# Load the cleaned car datasets\n",
    "car_data_clean = pd.read_csv('processed_data/car_data_clean.csv')\n",
    "car_dekho_clean = pd.read_csv('processed_data/car_dekho_clean.csv')\n",
    "car_v3_clean = pd.read_csv('processed_data/car_v3_clean.csv')\n",
    "car_v4_clean = pd.read_csv('processed_data/car_v4_clean.csv')\n",
    "\n",
    "# Display the first few rows of each dataset to understand their structure\n",
    "print(\"car_data_clean:\")\n",
    "print(car_data_clean.head())\n",
    "print(\"\\ncar_dekho_clean:\")\n",
    "print(car_dekho_clean.head())\n",
    "print(\"\\ncar_v3_clean:\")\n",
    "print(car_v3_clean.head())\n",
    "print(\"\\ncar_v4_clean:\")\n",
    "print(car_v4_clean.head())\n",
    "\n",
    "# Select one dataset for further analysis (e.g., car_data_clean)\n",
    "selected_dataset = car_data_clean\n",
    "\n",
    "# Display the first few rows of the selected dataset\n",
    "print(\"\\nSelected Dataset (car_data_clean):\")\n",
    "print(selected_dataset.head())"
   ]
  },
  {
   "cell_type": "markdown",
   "metadata": {},
   "source": [
    "# Data Exploration\n",
    "Explore the dataset by examining its structure, summary statistics, and relationships between features to better understand the data."
   ]
  },
  {
   "cell_type": "code",
   "execution_count": 5,
   "metadata": {},
   "outputs": [
    {
     "name": "stdout",
     "output_type": "stream",
     "text": [
      "\n",
      "Summary Statistics of Selected Dataset (car_data_clean):\n",
      "              year  selling_price  present_price     kms_driven       owner\n",
      "count   299.000000     299.000000     299.000000     299.000000  299.000000\n",
      "mean   2013.615385       4.589632       7.541037   36916.752508    0.043478\n",
      "std       2.896868       4.984240       8.567887   39015.170352    0.248720\n",
      "min    2003.000000       0.100000       0.320000     500.000000    0.000000\n",
      "25%    2012.000000       0.850000       1.200000   15000.000000    0.000000\n",
      "50%    2014.000000       3.510000       6.100000   32000.000000    0.000000\n",
      "75%    2016.000000       6.000000       9.840000   48883.500000    0.000000\n",
      "max    2018.000000      35.000000      92.600000  500000.000000    3.000000\n",
      "\n",
      "Missing Values in Selected Dataset (car_data_clean):\n",
      "car_name         0\n",
      "year             0\n",
      "selling_price    0\n",
      "present_price    0\n",
      "kms_driven       0\n",
      "fuel_type        0\n",
      "seller_type      0\n",
      "transmission     0\n",
      "owner            0\n",
      "dtype: int64\n"
     ]
    },
    {
     "data": {
      "image/png": "[encoded data removed]",
      "text/plain": [
       "<Figure size 2000x1500 with 6 Axes>"
      ]
     },
     "metadata": {},
     "output_type": "display_data"
    },
    {
     "ename": "ValueError",
     "evalue": "could not convert string to float: 'ritz'",
     "output_type": "error",
     "traceback": [
      "\u001b[31m---------------------------------------------------------------------------\u001b[39m",
      "\u001b[31mValueError\u001b[39m                                Traceback (most recent call last)",
      "\u001b[36mCell\u001b[39m\u001b[36m \u001b[39m\u001b[32mIn[5]\u001b[39m\u001b[32m, line 15\u001b[39m\n\u001b[32m     13\u001b[39m \u001b[38;5;66;03m# Visualize the correlation matrix\u001b[39;00m\n\u001b[32m     14\u001b[39m plt.figure(figsize=(\u001b[32m12\u001b[39m, \u001b[32m8\u001b[39m))\n\u001b[32m---> \u001b[39m\u001b[32m15\u001b[39m correlation_matrix = \u001b[43mselected_dataset\u001b[49m\u001b[43m.\u001b[49m\u001b[43mcorr\u001b[49m\u001b[43m(\u001b[49m\u001b[43m)\u001b[49m\n\u001b[32m     16\u001b[39m sns.heatmap(correlation_matrix, annot=\u001b[38;5;28;01mTrue\u001b[39;00m, cmap=\u001b[33m'\u001b[39m\u001b[33mcoolwarm\u001b[39m\u001b[33m'\u001b[39m)\n\u001b[32m     17\u001b[39m plt.title(\u001b[33m'\u001b[39m\u001b[33mCorrelation Matrix of Selected Dataset (car_data_clean)\u001b[39m\u001b[33m'\u001b[39m)\n",
      "\u001b[36mFile \u001b[39m\u001b[32mc:\\Users\\norvi\\OneDrive\\Escritorio\\SEPTIMO\\COLABORATIVOS\\D- ANALISIS DE DATOS\\Tarea_3\\venv\\Lib\\site-packages\\pandas\\core\\frame.py:11049\u001b[39m, in \u001b[36mDataFrame.corr\u001b[39m\u001b[34m(self, method, min_periods, numeric_only)\u001b[39m\n\u001b[32m  11047\u001b[39m cols = data.columns\n\u001b[32m  11048\u001b[39m idx = cols.copy()\n\u001b[32m> \u001b[39m\u001b[32m11049\u001b[39m mat = \u001b[43mdata\u001b[49m\u001b[43m.\u001b[49m\u001b[43mto_numpy\u001b[49m\u001b[43m(\u001b[49m\u001b[43mdtype\u001b[49m\u001b[43m=\u001b[49m\u001b[38;5;28;43mfloat\u001b[39;49m\u001b[43m,\u001b[49m\u001b[43m \u001b[49m\u001b[43mna_value\u001b[49m\u001b[43m=\u001b[49m\u001b[43mnp\u001b[49m\u001b[43m.\u001b[49m\u001b[43mnan\u001b[49m\u001b[43m,\u001b[49m\u001b[43m \u001b[49m\u001b[43mcopy\u001b[49m\u001b[43m=\u001b[49m\u001b[38;5;28;43;01mFalse\u001b[39;49;00m\u001b[43m)\u001b[49m\n\u001b[32m  11051\u001b[39m \u001b[38;5;28;01mif\u001b[39;00m method == \u001b[33m\"\u001b[39m\u001b[33mpearson\u001b[39m\u001b[33m\"\u001b[39m:\n\u001b[32m  11052\u001b[39m     correl = libalgos.nancorr(mat, minp=min_periods)\n",
      "\u001b[36mFile \u001b[39m\u001b[32mc:\\Users\\norvi\\OneDrive\\Escritorio\\SEPTIMO\\COLABORATIVOS\\D- ANALISIS DE DATOS\\Tarea_3\\venv\\Lib\\site-packages\\pandas\\core\\frame.py:1993\u001b[39m, in \u001b[36mDataFrame.to_numpy\u001b[39m\u001b[34m(self, dtype, copy, na_value)\u001b[39m\n\u001b[32m   1991\u001b[39m \u001b[38;5;28;01mif\u001b[39;00m dtype \u001b[38;5;129;01mis\u001b[39;00m \u001b[38;5;129;01mnot\u001b[39;00m \u001b[38;5;28;01mNone\u001b[39;00m:\n\u001b[32m   1992\u001b[39m     dtype = np.dtype(dtype)\n\u001b[32m-> \u001b[39m\u001b[32m1993\u001b[39m result = \u001b[38;5;28;43mself\u001b[39;49m\u001b[43m.\u001b[49m\u001b[43m_mgr\u001b[49m\u001b[43m.\u001b[49m\u001b[43mas_array\u001b[49m\u001b[43m(\u001b[49m\u001b[43mdtype\u001b[49m\u001b[43m=\u001b[49m\u001b[43mdtype\u001b[49m\u001b[43m,\u001b[49m\u001b[43m \u001b[49m\u001b[43mcopy\u001b[49m\u001b[43m=\u001b[49m\u001b[43mcopy\u001b[49m\u001b[43m,\u001b[49m\u001b[43m \u001b[49m\u001b[43mna_value\u001b[49m\u001b[43m=\u001b[49m\u001b[43mna_value\u001b[49m\u001b[43m)\u001b[49m\n\u001b[32m   1994\u001b[39m \u001b[38;5;28;01mif\u001b[39;00m result.dtype \u001b[38;5;129;01mis\u001b[39;00m \u001b[38;5;129;01mnot\u001b[39;00m dtype:\n\u001b[32m   1995\u001b[39m     result = np.asarray(result, dtype=dtype)\n",
      "\u001b[36mFile \u001b[39m\u001b[32mc:\\Users\\norvi\\OneDrive\\Escritorio\\SEPTIMO\\COLABORATIVOS\\D- ANALISIS DE DATOS\\Tarea_3\\venv\\Lib\\site-packages\\pandas\\core\\internals\\managers.py:1694\u001b[39m, in \u001b[36mBlockManager.as_array\u001b[39m\u001b[34m(self, dtype, copy, na_value)\u001b[39m\n\u001b[32m   1692\u001b[39m         arr.flags.writeable = \u001b[38;5;28;01mFalse\u001b[39;00m\n\u001b[32m   1693\u001b[39m \u001b[38;5;28;01melse\u001b[39;00m:\n\u001b[32m-> \u001b[39m\u001b[32m1694\u001b[39m     arr = \u001b[38;5;28;43mself\u001b[39;49m\u001b[43m.\u001b[49m\u001b[43m_interleave\u001b[49m\u001b[43m(\u001b[49m\u001b[43mdtype\u001b[49m\u001b[43m=\u001b[49m\u001b[43mdtype\u001b[49m\u001b[43m,\u001b[49m\u001b[43m \u001b[49m\u001b[43mna_value\u001b[49m\u001b[43m=\u001b[49m\u001b[43mna_value\u001b[49m\u001b[43m)\u001b[49m\n\u001b[32m   1695\u001b[39m     \u001b[38;5;66;03m# The underlying data was copied within _interleave, so no need\u001b[39;00m\n\u001b[32m   1696\u001b[39m     \u001b[38;5;66;03m# to further copy if copy=True or setting na_value\u001b[39;00m\n\u001b[32m   1698\u001b[39m \u001b[38;5;28;01mif\u001b[39;00m na_value \u001b[38;5;129;01mis\u001b[39;00m lib.no_default:\n",
      "\u001b[36mFile \u001b[39m\u001b[32mc:\\Users\\norvi\\OneDrive\\Escritorio\\SEPTIMO\\COLABORATIVOS\\D- ANALISIS DE DATOS\\Tarea_3\\venv\\Lib\\site-packages\\pandas\\core\\internals\\managers.py:1753\u001b[39m, in \u001b[36mBlockManager._interleave\u001b[39m\u001b[34m(self, dtype, na_value)\u001b[39m\n\u001b[32m   1751\u001b[39m     \u001b[38;5;28;01melse\u001b[39;00m:\n\u001b[32m   1752\u001b[39m         arr = blk.get_values(dtype)\n\u001b[32m-> \u001b[39m\u001b[32m1753\u001b[39m     \u001b[43mresult\u001b[49m\u001b[43m[\u001b[49m\u001b[43mrl\u001b[49m\u001b[43m.\u001b[49m\u001b[43mindexer\u001b[49m\u001b[43m]\u001b[49m = arr\n\u001b[32m   1754\u001b[39m     itemmask[rl.indexer] = \u001b[32m1\u001b[39m\n\u001b[32m   1756\u001b[39m \u001b[38;5;28;01mif\u001b[39;00m \u001b[38;5;129;01mnot\u001b[39;00m itemmask.all():\n",
      "\u001b[31mValueError\u001b[39m: could not convert string to float: 'ritz'"
     ]
    },
    {
     "data": {
      "text/plain": [
       "<Figure size 1200x800 with 0 Axes>"
      ]
     },
     "metadata": {},
     "output_type": "display_data"
    }
   ],
   "source": [
    "# Display summary statistics of the selected dataset\n",
    "print(\"\\nSummary Statistics of Selected Dataset (car_data_clean):\")\n",
    "print(selected_dataset.describe())\n",
    "\n",
    "# Check for missing values in the selected dataset\n",
    "print(\"\\nMissing Values in Selected Dataset (car_data_clean):\")\n",
    "print(selected_dataset.isnull().sum())\n",
    "\n",
    "# Visualize the distribution of each feature\n",
    "selected_dataset.hist(bins=20, figsize=(20, 15))\n",
    "plt.show()\n",
    "\n",
    "# Visualize the correlation matrix\n",
    "plt.figure(figsize=(12, 8))\n",
    "correlation_matrix = selected_dataset.corr()\n",
    "sns.heatmap(correlation_matrix, annot=True, cmap='coolwarm')\n",
    "plt.title('Correlation Matrix of Selected Dataset (car_data_clean)')\n",
    "plt.show()\n",
    "\n",
    "# Visualize relationships between features using pairplot\n",
    "sns.pairplot(selected_dataset)\n",
    "plt.show()"
   ]
  },
  {
   "cell_type": "markdown",
   "metadata": {},
   "source": [
    "# Feature Selection Methods\n",
    "Implement various feature selection techniques including correlation analysis, feature importance with tree-based models, recursive feature elimination (RFE), and statistical methods to identify the most relevant features."
   ]
  },
  {
   "cell_type": "code",
   "execution_count": 6,
   "metadata": {},
   "outputs": [
    {
     "ename": "ValueError",
     "evalue": "could not convert string to float: 'ritz'",
     "output_type": "error",
     "traceback": [
      "\u001b[31m---------------------------------------------------------------------------\u001b[39m",
      "\u001b[31mValueError\u001b[39m                                Traceback (most recent call last)",
      "\u001b[36mCell\u001b[39m\u001b[36m \u001b[39m\u001b[32mIn[6]\u001b[39m\u001b[32m, line 6\u001b[39m\n\u001b[32m      1\u001b[39m \u001b[38;5;66;03m# Feature Selection Methods\u001b[39;00m\n\u001b[32m      2\u001b[39m \n\u001b[32m      3\u001b[39m \u001b[38;5;66;03m# 1. Correlation Analysis\u001b[39;00m\n\u001b[32m      4\u001b[39m \u001b[38;5;66;03m# Select features with high correlation to the target variable\u001b[39;00m\n\u001b[32m      5\u001b[39m correlation_threshold = \u001b[32m0.1\u001b[39m  \u001b[38;5;66;03m# Adjust threshold as needed\u001b[39;00m\n\u001b[32m----> \u001b[39m\u001b[32m6\u001b[39m correlation_matrix = \u001b[43mselected_dataset\u001b[49m\u001b[43m.\u001b[49m\u001b[43mcorr\u001b[49m\u001b[43m(\u001b[49m\u001b[43m)\u001b[49m\n\u001b[32m      7\u001b[39m target_variable = \u001b[33m'\u001b[39m\u001b[33mprice\u001b[39m\u001b[33m'\u001b[39m  \u001b[38;5;66;03m# Replace with the actual target variable name\u001b[39;00m\n\u001b[32m      8\u001b[39m correlated_features = correlation_matrix[target_variable][\u001b[38;5;28mabs\u001b[39m(correlation_matrix[target_variable]) > correlation_threshold].index.tolist()\n",
      "\u001b[36mFile \u001b[39m\u001b[32mc:\\Users\\norvi\\OneDrive\\Escritorio\\SEPTIMO\\COLABORATIVOS\\D- ANALISIS DE DATOS\\Tarea_3\\venv\\Lib\\site-packages\\pandas\\core\\frame.py:11049\u001b[39m, in \u001b[36mDataFrame.corr\u001b[39m\u001b[34m(self, method, min_periods, numeric_only)\u001b[39m\n\u001b[32m  11047\u001b[39m cols = data.columns\n\u001b[32m  11048\u001b[39m idx = cols.copy()\n\u001b[32m> \u001b[39m\u001b[32m11049\u001b[39m mat = \u001b[43mdata\u001b[49m\u001b[43m.\u001b[49m\u001b[43mto_numpy\u001b[49m\u001b[43m(\u001b[49m\u001b[43mdtype\u001b[49m\u001b[43m=\u001b[49m\u001b[38;5;28;43mfloat\u001b[39;49m\u001b[43m,\u001b[49m\u001b[43m \u001b[49m\u001b[43mna_value\u001b[49m\u001b[43m=\u001b[49m\u001b[43mnp\u001b[49m\u001b[43m.\u001b[49m\u001b[43mnan\u001b[49m\u001b[43m,\u001b[49m\u001b[43m \u001b[49m\u001b[43mcopy\u001b[49m\u001b[43m=\u001b[49m\u001b[38;5;28;43;01mFalse\u001b[39;49;00m\u001b[43m)\u001b[49m\n\u001b[32m  11051\u001b[39m \u001b[38;5;28;01mif\u001b[39;00m method == \u001b[33m\"\u001b[39m\u001b[33mpearson\u001b[39m\u001b[33m\"\u001b[39m:\n\u001b[32m  11052\u001b[39m     correl = libalgos.nancorr(mat, minp=min_periods)\n",
      "\u001b[36mFile \u001b[39m\u001b[32mc:\\Users\\norvi\\OneDrive\\Escritorio\\SEPTIMO\\COLABORATIVOS\\D- ANALISIS DE DATOS\\Tarea_3\\venv\\Lib\\site-packages\\pandas\\core\\frame.py:1993\u001b[39m, in \u001b[36mDataFrame.to_numpy\u001b[39m\u001b[34m(self, dtype, copy, na_value)\u001b[39m\n\u001b[32m   1991\u001b[39m \u001b[38;5;28;01mif\u001b[39;00m dtype \u001b[38;5;129;01mis\u001b[39;00m \u001b[38;5;129;01mnot\u001b[39;00m \u001b[38;5;28;01mNone\u001b[39;00m:\n\u001b[32m   1992\u001b[39m     dtype = np.dtype(dtype)\n\u001b[32m-> \u001b[39m\u001b[32m1993\u001b[39m result = \u001b[38;5;28;43mself\u001b[39;49m\u001b[43m.\u001b[49m\u001b[43m_mgr\u001b[49m\u001b[43m.\u001b[49m\u001b[43mas_array\u001b[49m\u001b[43m(\u001b[49m\u001b[43mdtype\u001b[49m\u001b[43m=\u001b[49m\u001b[43mdtype\u001b[49m\u001b[43m,\u001b[49m\u001b[43m \u001b[49m\u001b[43mcopy\u001b[49m\u001b[43m=\u001b[49m\u001b[43mcopy\u001b[49m\u001b[43m,\u001b[49m\u001b[43m \u001b[49m\u001b[43mna_value\u001b[49m\u001b[43m=\u001b[49m\u001b[43mna_value\u001b[49m\u001b[43m)\u001b[49m\n\u001b[32m   1994\u001b[39m \u001b[38;5;28;01mif\u001b[39;00m result.dtype \u001b[38;5;129;01mis\u001b[39;00m \u001b[38;5;129;01mnot\u001b[39;00m dtype:\n\u001b[32m   1995\u001b[39m     result = np.asarray(result, dtype=dtype)\n",
      "\u001b[36mFile \u001b[39m\u001b[32mc:\\Users\\norvi\\OneDrive\\Escritorio\\SEPTIMO\\COLABORATIVOS\\D- ANALISIS DE DATOS\\Tarea_3\\venv\\Lib\\site-packages\\pandas\\core\\internals\\managers.py:1694\u001b[39m, in \u001b[36mBlockManager.as_array\u001b[39m\u001b[34m(self, dtype, copy, na_value)\u001b[39m\n\u001b[32m   1692\u001b[39m         arr.flags.writeable = \u001b[38;5;28;01mFalse\u001b[39;00m\n\u001b[32m   1693\u001b[39m \u001b[38;5;28;01melse\u001b[39;00m:\n\u001b[32m-> \u001b[39m\u001b[32m1694\u001b[39m     arr = \u001b[38;5;28;43mself\u001b[39;49m\u001b[43m.\u001b[49m\u001b[43m_interleave\u001b[49m\u001b[43m(\u001b[49m\u001b[43mdtype\u001b[49m\u001b[43m=\u001b[49m\u001b[43mdtype\u001b[49m\u001b[43m,\u001b[49m\u001b[43m \u001b[49m\u001b[43mna_value\u001b[49m\u001b[43m=\u001b[49m\u001b[43mna_value\u001b[49m\u001b[43m)\u001b[49m\n\u001b[32m   1695\u001b[39m     \u001b[38;5;66;03m# The underlying data was copied within _interleave, so no need\u001b[39;00m\n\u001b[32m   1696\u001b[39m     \u001b[38;5;66;03m# to further copy if copy=True or setting na_value\u001b[39;00m\n\u001b[32m   1698\u001b[39m \u001b[38;5;28;01mif\u001b[39;00m na_value \u001b[38;5;129;01mis\u001b[39;00m lib.no_default:\n",
      "\u001b[36mFile \u001b[39m\u001b[32mc:\\Users\\norvi\\OneDrive\\Escritorio\\SEPTIMO\\COLABORATIVOS\\D- ANALISIS DE DATOS\\Tarea_3\\venv\\Lib\\site-packages\\pandas\\core\\internals\\managers.py:1753\u001b[39m, in \u001b[36mBlockManager._interleave\u001b[39m\u001b[34m(self, dtype, na_value)\u001b[39m\n\u001b[32m   1751\u001b[39m     \u001b[38;5;28;01melse\u001b[39;00m:\n\u001b[32m   1752\u001b[39m         arr = blk.get_values(dtype)\n\u001b[32m-> \u001b[39m\u001b[32m1753\u001b[39m     \u001b[43mresult\u001b[49m\u001b[43m[\u001b[49m\u001b[43mrl\u001b[49m\u001b[43m.\u001b[49m\u001b[43mindexer\u001b[49m\u001b[43m]\u001b[49m = arr\n\u001b[32m   1754\u001b[39m     itemmask[rl.indexer] = \u001b[32m1\u001b[39m\n\u001b[32m   1756\u001b[39m \u001b[38;5;28;01mif\u001b[39;00m \u001b[38;5;129;01mnot\u001b[39;00m itemmask.all():\n",
      "\u001b[31mValueError\u001b[39m: could not convert string to float: 'ritz'"
     ]
    }
   ],
   "source": [
    "# Feature Selection Methods\n",
    "\n",
    "# 1. Correlation Analysis\n",
    "# Select features with high correlation to the target variable\n",
    "correlation_threshold = 0.1  # Adjust threshold as needed\n",
    "correlation_matrix = selected_dataset.corr()\n",
    "target_variable = 'price'  # Replace with the actual target variable name\n",
    "correlated_features = correlation_matrix[target_variable][abs(correlation_matrix[target_variable]) > correlation_threshold].index.tolist()\n",
    "print(\"Features with high correlation to the target variable:\")\n",
    "print(correlated_features)\n",
    "\n",
    "# 2. Feature Importance with Tree-Based Models\n",
    "from sklearn.ensemble import RandomForestRegressor\n",
    "\n",
    "# Define the features (X) and target (y)\n",
    "X = selected_dataset.drop(columns=[target_variable])\n",
    "y = selected_dataset[target_variable]\n",
    "\n",
    "# Train a RandomForestRegressor to determine feature importance\n",
    "model = RandomForestRegressor()\n",
    "model.fit(X, y)\n",
    "feature_importances = pd.Series(model.feature_importances_, index=X.columns).sort_values(ascending=False)\n",
    "print(\"\\nFeature Importances from RandomForestRegressor:\")\n",
    "print(feature_importances)\n",
    "\n",
    "# Select top N features based on importance\n",
    "top_n = 10  # Adjust the number of top features as needed\n",
    "top_features = feature_importances.head(top_n).index.tolist()\n",
    "print(\"\\nTop N features based on importance:\")\n",
    "print(top_features)\n",
    "\n",
    "# 3. Recursive Feature Elimination (RFE)\n",
    "from sklearn.feature_selection import RFE\n",
    "\n",
    "# Use RFE with a RandomForestRegressor\n",
    "rfe = RFE(estimator=RandomForestRegressor(), n_features_to_select=top_n)\n",
    "rfe.fit(X, y)\n",
    "rfe_features = X.columns[rfe.support_].tolist()\n",
    "print(\"\\nSelected features using RFE:\")\n",
    "print(rfe_features)\n",
    "\n",
    "# 4. Statistical Methods (SelectKBest with f_regression)\n",
    "k_best = SelectKBest(score_func=f_regression, k=top_n)\n",
    "k_best.fit(X, y)\n",
    "k_best_features = X.columns[k_best.get_support()].tolist()\n",
    "print(\"\\nSelected features using SelectKBest with f_regression:\")\n",
    "print(k_best_features)\n",
    "\n",
    "# Combine all selected features\n",
    "all_selected_features = list(set(correlated_features + top_features + rfe_features + k_best_features))\n",
    "print(\"\\nAll selected features combined:\")\n",
    "print(all_selected_features)\n",
    "\n",
    "# Update the dataset to include only the selected features\n",
    "selected_dataset = selected_dataset[all_selected_features + [target_variable]]\n",
    "print(\"\\nUpdated dataset with selected features:\")\n",
    "print(selected_dataset.head())"
   ]
  },
  {
   "cell_type": "markdown",
   "metadata": {},
   "source": [
    "# Feature Importance Visualization\n",
    "Create visualizations of feature importance scores and selected features to aid in understanding which features contribute most to predicting the target variable."
   ]
  },
  {
   "cell_type": "code",
   "execution_count": 7,
   "metadata": {},
   "outputs": [
    {
     "ename": "NameError",
     "evalue": "name 'feature_importances' is not defined",
     "output_type": "error",
     "traceback": [
      "\u001b[31m---------------------------------------------------------------------------\u001b[39m",
      "\u001b[31mNameError\u001b[39m                                 Traceback (most recent call last)",
      "\u001b[36mCell\u001b[39m\u001b[36m \u001b[39m\u001b[32mIn[7]\u001b[39m\u001b[32m, line 5\u001b[39m\n\u001b[32m      1\u001b[39m \u001b[38;5;66;03m# Feature Importance Visualization\u001b[39;00m\n\u001b[32m      2\u001b[39m \n\u001b[32m      3\u001b[39m \u001b[38;5;66;03m# Visualize feature importances from RandomForestRegressor\u001b[39;00m\n\u001b[32m      4\u001b[39m plt.figure(figsize=(\u001b[32m12\u001b[39m, \u001b[32m8\u001b[39m))\n\u001b[32m----> \u001b[39m\u001b[32m5\u001b[39m sns.barplot(x=\u001b[43mfeature_importances\u001b[49m, y=feature_importances.index)\n\u001b[32m      6\u001b[39m plt.title(\u001b[33m'\u001b[39m\u001b[33mFeature Importances from RandomForestRegressor\u001b[39m\u001b[33m'\u001b[39m)\n\u001b[32m      7\u001b[39m plt.xlabel(\u001b[33m'\u001b[39m\u001b[33mImportance Score\u001b[39m\u001b[33m'\u001b[39m)\n",
      "\u001b[31mNameError\u001b[39m: name 'feature_importances' is not defined"
     ]
    },
    {
     "data": {
      "text/plain": [
       "<Figure size 1200x800 with 0 Axes>"
      ]
     },
     "metadata": {},
     "output_type": "display_data"
    }
   ],
   "source": [
    "# Feature Importance Visualization\n",
    "\n",
    "# Visualize feature importances from RandomForestRegressor\n",
    "plt.figure(figsize=(12, 8))\n",
    "sns.barplot(x=feature_importances, y=feature_importances.index)\n",
    "plt.title('Feature Importances from RandomForestRegressor')\n",
    "plt.xlabel('Importance Score')\n",
    "plt.ylabel('Features')\n",
    "plt.show()\n",
    "\n",
    "# Visualize selected features from RFE\n",
    "plt.figure(figsize=(12, 8))\n",
    "sns.barplot(x=rfe.estimator_.feature_importances_, y=rfe_features)\n",
    "plt.title('Selected Features using RFE')\n",
    "plt.xlabel('Importance Score')\n",
    "plt.ylabel('Features')\n",
    "plt.show()\n",
    "\n",
    "# Visualize selected features from SelectKBest with f_regression\n",
    "k_best_scores = k_best.scores_[k_best.get_support()]\n",
    "plt.figure(figsize=(12, 8))\n",
    "sns.barplot(x=k_best_scores, y=k_best_features)\n",
    "plt.title('Selected Features using SelectKBest with f_regression')\n",
    "plt.xlabel('Score')\n",
    "plt.ylabel('Features')\n",
    "plt.show()"
   ]
  },
  {
   "cell_type": "markdown",
   "metadata": {},
   "source": [
    "# Train-Test Split Implementation\n",
    "Split the dataset into training and testing sets using scikit-learn's train_test_split function with appropriate parameters to ensure proper model evaluation."
   ]
  },
  {
   "cell_type": "code",
   "execution_count": null,
   "metadata": {},
   "outputs": [],
   "source": [
    "# Train-Test Split Implementation\n",
    "\n",
    "# Define the features (X) and target (y) for the updated dataset\n",
    "X = selected_dataset.drop(columns=[target_variable])\n",
    "y = selected_dataset[target_variable]\n",
    "\n",
    "# Split the dataset into training and testing sets\n",
    "X_train, X_test, y_train, y_test = train_test_split(X, y, test_size=0.2, random_state=42)\n",
    "\n",
    "# Display the shapes of the training and testing sets\n",
    "print(\"Training set shape (X_train, y_train):\", X_train.shape, y_train.shape)\n",
    "print(\"Testing set shape (X_test, y_test):\", X_test.shape, y_test.shape)"
   ]
  },
  {
   "cell_type": "markdown",
   "metadata": {},
   "source": [
    "# Model Training with Selected Features\n",
    "Train a linear regression model using only the selected features from the training dataset."
   ]
  },
  {
   "cell_type": "code",
   "execution_count": null,
   "metadata": {},
   "outputs": [],
   "source": [
    "# Model Training with Selected Features\n",
    "\n",
    "from sklearn.linear_model import LinearRegression\n",
    "from sklearn.metrics import mean_squared_error, r2_score\n",
    "\n",
    "# Initialize the linear regression model\n",
    "linear_regression_model = LinearRegression()\n",
    "\n",
    "# Train the model using the training data\n",
    "linear_regression_model.fit(X_train, y_train)\n",
    "\n",
    "# Make predictions on the test data\n",
    "y_pred = linear_regression_model.predict(X_test)\n",
    "\n",
    "# Evaluate the model performance\n",
    "mse = mean_squared_error(y_test, y_pred)\n",
    "r2 = r2_score(y_test, y_pred)\n",
    "\n",
    "# Display the evaluation metrics\n",
    "print(\"Mean Squared Error (MSE):\", mse)\n",
    "print(\"R-squared (R2):\", r2)\n",
    "\n",
    "# Visualize the actual vs predicted values\n",
    "plt.figure(figsize=(10, 6))\n",
    "plt.scatter(y_test, y_pred, alpha=0.7)\n",
    "plt.plot([y_test.min(), y_test.max()], [y_test.min(), y_test.max()], 'r--', lw=2)\n",
    "plt.xlabel('Actual')\n",
    "plt.ylabel('Predicted')\n",
    "plt.title('Actual vs Predicted Values')\n",
    "plt.show()"
   ]
  },
  {
   "cell_type": "markdown",
   "metadata": {},
   "source": [
    "# Model Evaluation\n",
    "Evaluate the trained model using appropriate metrics (e.g., R², MSE, MAE) on both training and test sets to assess performance and check for overfitting."
   ]
  },
  {
   "cell_type": "code",
   "execution_count": null,
   "metadata": {},
   "outputs": [],
   "source": [
    "# Model Evaluation\n",
    "\n",
    "from sklearn.metrics import mean_absolute_error\n",
    "\n",
    "# Evaluate the model on the training set\n",
    "y_train_pred = linear_regression_model.predict(X_train)\n",
    "train_mse = mean_squared_error(y_train, y_train_pred)\n",
    "train_r2 = r2_score(y_train, y_train_pred)\n",
    "train_mae = mean_absolute_error(y_train, y_train_pred)\n",
    "\n",
    "# Evaluate the model on the test set\n",
    "test_mse = mean_squared_error(y_test, y_pred)\n",
    "test_r2 = r2_score(y_test, y_pred)\n",
    "test_mae = mean_absolute_error(y_test, y_pred)\n",
    "\n",
    "# Display the evaluation metrics for both training and test sets\n",
    "print(\"Training Set Evaluation Metrics:\")\n",
    "print(\"Mean Squared Error (MSE):\", train_mse)\n",
    "print(\"R-squared (R2):\", train_r2)\n",
    "print(\"Mean Absolute Error (MAE):\", train_mae)\n",
    "\n",
    "print(\"\\nTest Set Evaluation Metrics:\")\n",
    "print(\"Mean Squared Error (MSE):\", test_mse)\n",
    "print(\"R-squared (R2):\", test_r2)\n",
    "print(\"Mean Absolute Error (MAE):\", test_mae)\n",
    "\n",
    "# Visualize the residuals\n",
    "plt.figure(figsize=(10, 6))\n",
    "plt.scatter(y_test, y_pred - y_test, alpha=0.7, label='Test Residuals')\n",
    "plt.scatter(y_train, y_train_pred - y_train, alpha=0.7, label='Train Residuals')\n",
    "plt.hlines(y=0, xmin=min(y_test.min(), y_train.min()), xmax=max(y_test.max(), y_train.max()), colors='r', linestyles='dashed')\n",
    "plt.xlabel('Actual')\n",
    "plt.ylabel('Residuals')\n",
    "plt.title('Residuals Plot')\n",
    "plt.legend()\n",
    "plt.show()"
   ]
  }
 ],
 "metadata": {
  "kernelspec": {
   "display_name": "venv",
   "language": "python",
   "name": "python3"
  },
  "language_info": {
   "codemirror_mode": {
    "name": "ipython",
    "version": 3
   },
   "file_extension": ".py",
   "mimetype": "text/x-python",
   "name": "python",
   "nbconvert_exporter": "python",
   "pygments_lexer": "ipython3",
   "version": "3.13.2"
  }
 },
 "nbformat": 4,
 "nbformat_minor": 2
}
