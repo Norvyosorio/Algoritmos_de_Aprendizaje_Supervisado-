{
 "cells": [
  {
   "cell_type": "markdown",
   "metadata": {},
   "source": [
    "3. Seleccionar las características más relevantes para entrenar el modelo utilizando selección de características. \n",
    "\n",
    "4. Dividir el dataset en Train y Test para evaluar correctamente el modelo."
   ]
  },
  {
   "cell_type": "code",
   "execution_count": null,
   "metadata": {
    "vscode": {
     "languageId": "plaintext"
    }
   },
   "outputs": [],
   "source": []
  }
 ],
 "metadata": {
  "language_info": {
   "name": "python"
  }
 },
 "nbformat": 4,
 "nbformat_minor": 2
}
